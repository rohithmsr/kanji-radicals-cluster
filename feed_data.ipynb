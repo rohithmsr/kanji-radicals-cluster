{
 "cells": [
  {
   "cell_type": "code",
   "execution_count": 341,
   "id": "c910c753",
   "metadata": {},
   "outputs": [],
   "source": [
    "import numpy as np\n",
    "import pandas as pd\n",
    "\n",
    "import requests\n",
    "from bs4 import BeautifulSoup\n",
    "from openpyxl import Workbook, load_workbook\n",
    "\n",
    "from itertools import product"
   ]
  },
  {
   "cell_type": "code",
   "execution_count": null,
   "id": "feae01da",
   "metadata": {},
   "outputs": [],
   "source": []
  },
  {
   "cell_type": "code",
   "execution_count": 342,
   "id": "924f0c7d",
   "metadata": {},
   "outputs": [],
   "source": [
    "stroke_count_html = requests.get('https://en.wikipedia.org/wiki/Radical_214')\n",
    "# stroke_count_html"
   ]
  },
  {
   "cell_type": "code",
   "execution_count": 343,
   "id": "4aad6f5a",
   "metadata": {},
   "outputs": [],
   "source": [
    "stroke_count_bs = BeautifulSoup(stroke_count_html.text)\n",
    "# stroke_count_bs"
   ]
  },
  {
   "cell_type": "code",
   "execution_count": 344,
   "id": "ac264e99",
   "metadata": {},
   "outputs": [],
   "source": [
    "stroke_count_table = stroke_count_bs.find_all(name = 'table')[5]\n",
    "# stroke_count_table"
   ]
  },
  {
   "cell_type": "code",
   "execution_count": 345,
   "id": "a942e238",
   "metadata": {},
   "outputs": [],
   "source": [
    "stroke_count_table_tbody = stroke_count_table.find_all(name = 'tbody')\n",
    "# stroke_count_table_tbody"
   ]
  },
  {
   "cell_type": "code",
   "execution_count": 346,
   "id": "20d64ac8",
   "metadata": {},
   "outputs": [
    {
     "data": {
      "text/plain": [
       "'17 strokes\\n214 龠\\n'"
      ]
     },
     "execution_count": 346,
     "metadata": {},
     "output_type": "execute_result"
    }
   ],
   "source": [
    "stroke_count_table_tr = stroke_count_table_tbody[0].find_all(name = 'tr')\n",
    "stroke_count_table_tr[17].text # get 17 strokes column "
   ]
  },
  {
   "cell_type": "code",
   "execution_count": 347,
   "id": "02436b33",
   "metadata": {},
   "outputs": [
    {
     "name": "stdout",
     "output_type": "stream",
     "text": [
      "['1 stroke', '1 一', '2 丨', '3 丶', '4 丿', '5 乙', '6 亅', '']\n"
     ]
    }
   ],
   "source": [
    "print(stroke_count_table_tr[1].text.split('\\n'))"
   ]
  },
  {
   "cell_type": "code",
   "execution_count": null,
   "id": "d0a47523",
   "metadata": {},
   "outputs": [],
   "source": []
  },
  {
   "cell_type": "code",
   "execution_count": 348,
   "id": "a460698f",
   "metadata": {},
   "outputs": [],
   "source": [
    "meaning_html = requests.get('http://hanzidb.org/radicals')"
   ]
  },
  {
   "cell_type": "code",
   "execution_count": 349,
   "id": "a84c8a90",
   "metadata": {},
   "outputs": [],
   "source": [
    "meaning_bs = BeautifulSoup(meaning_html.text)\n",
    "# meaning_bs"
   ]
  },
  {
   "cell_type": "code",
   "execution_count": 350,
   "id": "77d036df",
   "metadata": {},
   "outputs": [],
   "source": [
    "meaning_table = meaning_bs.find_all(name = 'table')[0]\n",
    "# meaning_table"
   ]
  },
  {
   "cell_type": "code",
   "execution_count": 351,
   "id": "dd52be17",
   "metadata": {},
   "outputs": [],
   "source": [
    "meaning_table_tr = meaning_table.find_all(name = 'tr')\n",
    "# meaning_table_tr\n",
    "# meaning_table_tr[1].text"
   ]
  },
  {
   "cell_type": "code",
   "execution_count": 352,
   "id": "1ae880cf",
   "metadata": {},
   "outputs": [],
   "source": [
    "meaning_table_th = meaning_table_tr[1].find_all(name = 'td')\n",
    "# meaning_table_th"
   ]
  },
  {
   "cell_type": "code",
   "execution_count": 353,
   "id": "9e5f4c3e",
   "metadata": {},
   "outputs": [
    {
     "name": "stdout",
     "output_type": "stream",
     "text": [
      "son, legs\n"
     ]
    }
   ],
   "source": [
    "print(meaning_table_tr[10].find_all(name = 'td')[4].text)"
   ]
  },
  {
   "cell_type": "code",
   "execution_count": null,
   "id": "a4f999fd",
   "metadata": {},
   "outputs": [],
   "source": []
  },
  {
   "cell_type": "code",
   "execution_count": null,
   "id": "e7a9a8c6",
   "metadata": {},
   "outputs": [],
   "source": []
  },
  {
   "cell_type": "code",
   "execution_count": 354,
   "id": "7d87f151",
   "metadata": {},
   "outputs": [],
   "source": [
    "indices = dict()\n",
    "for i in range(1, 18):\n",
    "    row_list = stroke_count_table_tr[i].text.split('\\n')\n",
    "    indices[i] = []\n",
    "    \n",
    "    for j in range(1, len(row_list) - 1):\n",
    "        num, rad = row_list[j].split()\n",
    "        num = int(num)\n",
    "        defi = meaning_table_tr[num].find_all(name = 'td')[4].text\n",
    "        \n",
    "        item = {\"radical\": rad, \"definition\": defi}\n",
    "        indices[i].append(item)\n",
    "\n",
    "\n",
    "# indices"
   ]
  },
  {
   "cell_type": "code",
   "execution_count": null,
   "id": "74a455e8",
   "metadata": {},
   "outputs": [],
   "source": []
  },
  {
   "cell_type": "code",
   "execution_count": null,
   "id": "3eeb6cfb",
   "metadata": {},
   "outputs": [],
   "source": []
  },
  {
   "cell_type": "code",
   "execution_count": null,
   "id": "3edf1bf0",
   "metadata": {},
   "outputs": [],
   "source": []
  },
  {
   "cell_type": "code",
   "execution_count": null,
   "id": "9637e5ea",
   "metadata": {},
   "outputs": [],
   "source": []
  },
  {
   "cell_type": "code",
   "execution_count": null,
   "id": "9b7ae52d",
   "metadata": {},
   "outputs": [],
   "source": []
  },
  {
   "cell_type": "code",
   "execution_count": null,
   "id": "c62ff629",
   "metadata": {},
   "outputs": [],
   "source": []
  },
  {
   "cell_type": "code",
   "execution_count": 355,
   "id": "95092f2e",
   "metadata": {},
   "outputs": [],
   "source": [
    "wb2 = load_workbook('pre-design.xlsx')\n",
    "\n",
    "radical = wb2['radical']\n",
    "kanji = wb2['kanji']"
   ]
  },
  {
   "cell_type": "code",
   "execution_count": 356,
   "id": "1e6a92b3",
   "metadata": {},
   "outputs": [
    {
     "name": "stdout",
     "output_type": "stream",
     "text": [
      "#radical!A55\n",
      "#radical!A79\n",
      "#radical!A103\n",
      "#radical!A127\n",
      "#radical!A151\n",
      "#radical!A175\n",
      "#radical!A199\n",
      "#radical!A223\n"
     ]
    }
   ],
   "source": [
    "# Strokes count link\n",
    "# print(chr(ord(init_col) + 1))\n",
    "# for i in range(9):\n",
    "\n",
    "# for STROKE 1 ALONE\n",
    "radical['B8'].hyperlink = \"#{name}!A{row}\".format(name = radical.title, row = 10)\n",
    "\n",
    "init_col = 'C'\n",
    "init_row = 55\n",
    "\n",
    "for i in range(8):\n",
    "    cell_str = init_col + '8'\n",
    "    \n",
    "    radical[cell_str].hyperlink = \"#{name}!A{row}\".format(name = radical.title, row = init_row)\n",
    "    print(\"#{name}!A{row}\".format(name = radical.title, row = init_row))\n",
    "    \n",
    "    init_col = chr(ord(init_col) + 1)\n",
    "    init_row = init_row + 24\n",
    "    "
   ]
  },
  {
   "cell_type": "code",
   "execution_count": 357,
   "id": "b0e137f7",
   "metadata": {},
   "outputs": [
    {
     "name": "stdout",
     "output_type": "stream",
     "text": [
      "A10\n",
      "A34\n",
      "A58\n",
      "A82\n",
      "A106\n",
      "A130\n",
      "A154\n",
      "A178\n",
      "A202\n"
     ]
    }
   ],
   "source": [
    "init_col = 'A'\n",
    "init_row = 10\n",
    "\n",
    "for i in range(9):\n",
    "    cell_str = 'A' + str(init_row)\n",
    "    print(cell_str)\n",
    "    \n",
    "    radical[cell_str].hyperlink = \"#{name}!A{row}\".format(name = 'radical', row = 1)  \n",
    "    init_row = init_row + 24\n"
   ]
  },
  {
   "cell_type": "code",
   "execution_count": 358,
   "id": "bcb8d622",
   "metadata": {},
   "outputs": [],
   "source": [
    "s1data = {}\n",
    "\n",
    "row = 12\n",
    "for k in range(1, 9):\n",
    "    ctr = 0\n",
    "    for i in range(5):\n",
    "        start = 65\n",
    "        for j in range(11):\n",
    "            alp = chr(start + j)\n",
    "            cell = alp + str(row)\n",
    "            s1data[alp + str(row)] = {'radical': '', 'definition': ''}\n",
    "            \n",
    "            if(ctr < len(indices[k])):\n",
    "                s1data[alp + str(row)] = indices[k][ctr]\n",
    "                ctr += 1\n",
    "            \n",
    "        row += 4\n",
    "    row += 4"
   ]
  },
  {
   "cell_type": "code",
   "execution_count": 359,
   "id": "4e07defc",
   "metadata": {},
   "outputs": [
    {
     "data": {
      "text/plain": [
       "204"
      ]
     },
     "execution_count": 359,
     "metadata": {},
     "output_type": "execute_result"
    }
   ],
   "source": [
    "row"
   ]
  },
  {
   "cell_type": "code",
   "execution_count": 360,
   "id": "1eb4e1d1",
   "metadata": {},
   "outputs": [],
   "source": [
    "row = 204\n",
    "more_strokes = []\n",
    "\n",
    "for k in range(9, 18):\n",
    "    more_strokes.extend(indices[k])\n",
    "    \n",
    "ctr = 0\n",
    "for i in range(5):\n",
    "    start = 65\n",
    "    for j in range(11):\n",
    "        alp = chr(start + j)\n",
    "        cell = alp + str(row)\n",
    "        s1data[alp + str(row)] = {'radical': '', 'definition': ''}\n",
    "\n",
    "        if(ctr < len(more_strokes)):\n",
    "            s1data[alp + str(row)] = more_strokes[ctr]\n",
    "            ctr += 1\n",
    "\n",
    "    row += 4    \n"
   ]
  },
  {
   "cell_type": "code",
   "execution_count": 361,
   "id": "49bfd86b",
   "metadata": {},
   "outputs": [],
   "source": [
    "columns = [chr(i) for i in range(65, 91)]\n",
    "\n",
    "keywords = product(columns, repeat = 2)\n",
    "keywords = [''.join(i) for i in keywords]\n",
    "\n",
    "columns.extend(keywords)\n",
    "\n",
    "# columns"
   ]
  },
  {
   "cell_type": "code",
   "execution_count": 362,
   "id": "adc9bdc4",
   "metadata": {},
   "outputs": [],
   "source": [
    "ctr = 1 # starts from B babe!\n",
    "for i in s1data.keys():\n",
    "    meaning_str = i[0] + str(int(i[1:]) + 3)\n",
    "    \n",
    "    radical[i] = s1data[i]['radical']\n",
    "    radical[meaning_str] = s1data[i]['definition']\n",
    "    \n",
    "    if(s1data[i]['radical'] != ''):\n",
    "        radical[i].hyperlink = \"#{name}!{col}8\".format(name = 'kanji', col = columns[ctr])\n",
    "        kanji[columns[ctr] + '8'] = s1data[i]['radical']\n",
    "        ctr += 1"
   ]
  },
  {
   "cell_type": "code",
   "execution_count": 363,
   "id": "79a5baed",
   "metadata": {},
   "outputs": [],
   "source": [
    "wb2.save('kodo-senshi-kanji-radicals-cluster-ms-excel.xlsx')"
   ]
  },
  {
   "cell_type": "code",
   "execution_count": null,
   "id": "adf83033",
   "metadata": {},
   "outputs": [],
   "source": []
  },
  {
   "cell_type": "code",
   "execution_count": null,
   "id": "be1996ff",
   "metadata": {},
   "outputs": [],
   "source": []
  },
  {
   "cell_type": "code",
   "execution_count": null,
   "id": "0f092b66",
   "metadata": {},
   "outputs": [],
   "source": []
  },
  {
   "cell_type": "code",
   "execution_count": null,
   "id": "f57f40ff",
   "metadata": {},
   "outputs": [],
   "source": []
  },
  {
   "cell_type": "code",
   "execution_count": null,
   "id": "7633c00d",
   "metadata": {},
   "outputs": [],
   "source": []
  },
  {
   "cell_type": "code",
   "execution_count": null,
   "id": "71d1a4c6",
   "metadata": {},
   "outputs": [],
   "source": []
  },
  {
   "cell_type": "code",
   "execution_count": null,
   "id": "17d6271c",
   "metadata": {},
   "outputs": [],
   "source": []
  },
  {
   "cell_type": "code",
   "execution_count": null,
   "id": "d1e1264b",
   "metadata": {},
   "outputs": [],
   "source": []
  },
  {
   "cell_type": "code",
   "execution_count": null,
   "id": "42674371",
   "metadata": {},
   "outputs": [],
   "source": []
  },
  {
   "cell_type": "code",
   "execution_count": null,
   "id": "316451d7",
   "metadata": {},
   "outputs": [],
   "source": []
  },
  {
   "cell_type": "code",
   "execution_count": null,
   "id": "907e5724",
   "metadata": {},
   "outputs": [],
   "source": []
  },
  {
   "cell_type": "code",
   "execution_count": null,
   "id": "8aaec408",
   "metadata": {},
   "outputs": [],
   "source": []
  },
  {
   "cell_type": "code",
   "execution_count": null,
   "id": "0ff31116",
   "metadata": {},
   "outputs": [],
   "source": []
  },
  {
   "cell_type": "code",
   "execution_count": null,
   "id": "8743d633",
   "metadata": {},
   "outputs": [],
   "source": []
  },
  {
   "cell_type": "code",
   "execution_count": null,
   "id": "3d60e1dd",
   "metadata": {},
   "outputs": [],
   "source": []
  },
  {
   "cell_type": "code",
   "execution_count": null,
   "id": "6f61d267",
   "metadata": {},
   "outputs": [],
   "source": []
  },
  {
   "cell_type": "code",
   "execution_count": null,
   "id": "ea35fab3",
   "metadata": {},
   "outputs": [],
   "source": []
  },
  {
   "cell_type": "code",
   "execution_count": null,
   "id": "a363bf84",
   "metadata": {},
   "outputs": [],
   "source": []
  },
  {
   "cell_type": "code",
   "execution_count": 177,
   "id": "23df5219",
   "metadata": {},
   "outputs": [],
   "source": []
  },
  {
   "cell_type": "code",
   "execution_count": 178,
   "id": "ce51ace2",
   "metadata": {},
   "outputs": [],
   "source": []
  },
  {
   "cell_type": "code",
   "execution_count": null,
   "id": "45161e9d",
   "metadata": {},
   "outputs": [],
   "source": []
  },
  {
   "cell_type": "code",
   "execution_count": null,
   "id": "8ca7ec2e",
   "metadata": {},
   "outputs": [],
   "source": []
  },
  {
   "cell_type": "code",
   "execution_count": null,
   "id": "4c2420a9",
   "metadata": {},
   "outputs": [],
   "source": []
  },
  {
   "cell_type": "code",
   "execution_count": null,
   "id": "cc9ae5fa",
   "metadata": {},
   "outputs": [],
   "source": []
  },
  {
   "cell_type": "code",
   "execution_count": null,
   "id": "f4b53c1a",
   "metadata": {},
   "outputs": [],
   "source": []
  },
  {
   "cell_type": "code",
   "execution_count": null,
   "id": "87daa84a",
   "metadata": {},
   "outputs": [],
   "source": []
  },
  {
   "cell_type": "code",
   "execution_count": null,
   "id": "d4c5b3b8",
   "metadata": {},
   "outputs": [],
   "source": []
  },
  {
   "cell_type": "code",
   "execution_count": null,
   "id": "c7e1277c",
   "metadata": {},
   "outputs": [],
   "source": []
  },
  {
   "cell_type": "code",
   "execution_count": null,
   "id": "23edd08c",
   "metadata": {},
   "outputs": [],
   "source": []
  },
  {
   "cell_type": "code",
   "execution_count": null,
   "id": "af7e426a",
   "metadata": {},
   "outputs": [],
   "source": []
  },
  {
   "cell_type": "code",
   "execution_count": null,
   "id": "f324078b",
   "metadata": {},
   "outputs": [],
   "source": []
  }
 ],
 "metadata": {
  "kernelspec": {
   "display_name": "Python 3",
   "language": "python",
   "name": "python3"
  },
  "language_info": {
   "codemirror_mode": {
    "name": "ipython",
    "version": 3
   },
   "file_extension": ".py",
   "mimetype": "text/x-python",
   "name": "python",
   "nbconvert_exporter": "python",
   "pygments_lexer": "ipython3",
   "version": "3.8.8"
  }
 },
 "nbformat": 4,
 "nbformat_minor": 5
}
