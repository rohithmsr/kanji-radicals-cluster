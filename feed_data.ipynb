{
 "cells": [
  {
   "cell_type": "code",
   "execution_count": 2,
   "id": "c910c753",
   "metadata": {},
   "outputs": [],
   "source": [
    "import numpy as np\n",
    "import pandas as pd\n",
    "\n",
    "import wikipedia\n",
    "import requests\n",
    "from bs4 import BeautifulSoup\n",
    "from openpyxl import Workbook\n",
    "\n",
    "import time"
   ]
  },
  {
   "cell_type": "code",
   "execution_count": null,
   "id": "feae01da",
   "metadata": {},
   "outputs": [],
   "source": []
  },
  {
   "cell_type": "code",
   "execution_count": 21,
   "id": "924f0c7d",
   "metadata": {},
   "outputs": [],
   "source": [
    "stroke_count_html = requests.get('https://en.wikipedia.org/wiki/Radical_214')\n",
    "# stroke_count_html"
   ]
  },
  {
   "cell_type": "code",
   "execution_count": 22,
   "id": "49c35c6f",
   "metadata": {},
   "outputs": [],
   "source": [
    "stroke_count_bs = BeautifulSoup(stroke_count_html.text)\n",
    "# stroke_count_bs"
   ]
  },
  {
   "cell_type": "code",
   "execution_count": 26,
   "id": "54e35dd8",
   "metadata": {},
   "outputs": [],
   "source": [
    "stroke_count_table = stroke_count_bs.find_all(name = 'table')[5]\n",
    "# stroke_count_table"
   ]
  },
  {
   "cell_type": "code",
   "execution_count": 43,
   "id": "ef93252c",
   "metadata": {},
   "outputs": [],
   "source": [
    "stroke_count_table_tbody = stroke_count_table.find_all(name = 'tbody')\n",
    "# stroke_count_table_tbody"
   ]
  },
  {
   "cell_type": "code",
   "execution_count": 44,
   "id": "515dbda7",
   "metadata": {},
   "outputs": [
    {
     "data": {
      "text/plain": [
       "'17 strokes\\n214 龠\\n'"
      ]
     },
     "execution_count": 44,
     "metadata": {},
     "output_type": "execute_result"
    }
   ],
   "source": [
    "stroke_count_table_tr = stroke_count_table_tbody[0].find_all(name = 'tr')\n",
    "stroke_count_table_tr[17].text # get 17 strokes column "
   ]
  },
  {
   "cell_type": "code",
   "execution_count": 50,
   "id": "cfd7ba84",
   "metadata": {},
   "outputs": [
    {
     "name": "stdout",
     "output_type": "stream",
     "text": [
      "['1 stroke', '1 一', '2 丨', '3 丶', '4 丿', '5 乙', '6 亅', '']\n"
     ]
    }
   ],
   "source": [
    "print(stroke_count_table_tr[1].text.split('\\n'))"
   ]
  },
  {
   "cell_type": "code",
   "execution_count": 57,
   "id": "4679b02d",
   "metadata": {},
   "outputs": [
    {
     "name": "stdout",
     "output_type": "stream",
     "text": [
      "{1: [{1: '一'}, {2: '丨'}, {3: '丶'}, {4: '丿'}, {5: '乙'}, {6: '亅'}], 2: [{7: '二'}, {8: '亠'}, {9: '人'}, {10: '儿'}, {11: '入'}, {12: '八'}, {13: '冂'}, {14: '冖'}, {15: '冫'}, {16: '几'}, {17: '凵'}, {18: '刀'}, {19: '力'}, {20: '勹'}, {21: '匕'}, {22: '匚'}, {23: '匸'}, {24: '十'}, {25: '卜'}, {26: '卩'}, {27: '厂'}, {28: '厶'}, {29: '又'}], 3: [{30: '口'}, {31: '囗'}, {32: '土'}, {33: '士'}, {34: '夂'}, {35: '夊'}, {36: '夕'}, {37: '大'}, {38: '女'}, {39: '子'}, {40: '宀'}, {41: '寸'}, {42: '小'}, {43: '尢'}, {44: '尸'}, {45: '屮'}, {46: '山'}, {47: '巛'}, {48: '工'}, {49: '己'}, {50: '巾'}, {51: '干'}, {52: '幺'}, {53: '广'}, {54: '廴'}, {55: '廾'}, {56: '弋'}, {57: '弓'}, {58: '彐'}, {59: '彡'}, {60: '彳'}], 4: [{61: '心'}, {62: '戈'}, {63: '戶'}, {64: '手'}, {65: '支'}, {66: '攴'}, {67: '文'}, {68: '斗'}, {69: '斤'}, {70: '方'}, {71: '无'}, {72: '日'}, {73: '曰'}, {74: '月'}, {75: '木'}, {76: '欠'}, {77: '止'}, {78: '歹'}, {79: '殳'}, {80: '毋'}, {81: '比'}, {82: '毛'}, {83: '氏'}, {84: '气'}, {85: '水'}, {86: '火'}, {87: '爪'}, {88: '父'}, {89: '爻'}, {90: '爿'}, {91: '片'}, {92: '牙'}, {93: '牛'}, {94: '犬'}], 5: [{95: '玄'}, {96: '玉'}, {97: '瓜'}, {98: '瓦'}, {99: '甘'}, {100: '生'}, {101: '用'}, {102: '田'}, {103: '疋'}, {104: '疒'}, {105: '癶'}, {106: '白'}, {107: '皮'}, {108: '皿'}, {109: '目'}, {110: '矛'}, {111: '矢'}, {112: '石'}, {113: '示'}, {114: '禸'}, {115: '禾'}, {116: '穴'}, {117: '立'}], 6: [{118: '竹'}, {119: '米'}, {120: '糸'}, {121: '缶'}, {122: '网'}, {123: '羊'}, {124: '羽'}, {125: '老'}, {126: '而'}, {127: '耒'}, {128: '耳'}, {129: '聿'}, {130: '肉'}, {131: '臣'}, {132: '自'}, {133: '至'}, {134: '臼'}, {135: '舌'}, {136: '舛'}, {137: '舟'}, {138: '艮'}, {139: '色'}, {140: '艸'}, {141: '虍'}, {142: '虫'}, {143: '血'}, {144: '行'}, {145: '衣'}, {146: '襾'}], 7: [{147: '見'}, {148: '角'}, {149: '言'}, {150: '谷'}, {151: '豆'}, {152: '豕'}, {153: '豸'}, {154: '貝'}, {155: '赤'}, {156: '走'}, {157: '足'}, {158: '身'}, {159: '車'}, {160: '辛'}, {161: '辰'}, {162: '辵'}, {163: '邑'}, {164: '酉'}, {165: '釆'}, {166: '里'}], 8: [{167: '金'}, {168: '長'}, {169: '門'}, {170: '阜'}, {171: '隶'}, {172: '隹'}, {173: '雨'}, {174: '靑'}, {175: '非'}], 9: [{176: '面'}, {177: '革'}, {178: '韋'}, {179: '韭'}, {180: '音'}, {181: '頁'}, {182: '風'}, {183: '飛'}, {184: '食'}, {185: '首'}, {186: '香'}], 10: [{187: '馬'}, {188: '骨'}, {189: '高'}, {190: '髟'}, {191: '鬥'}, {192: '鬯'}, {193: '鬲'}, {194: '鬼'}], 11: [{195: '魚'}, {196: '鳥'}, {197: '鹵'}, {198: '鹿'}, {199: '麥'}, {200: '麻'}], 12: [{201: '黃'}, {202: '黍'}, {203: '黑'}, {204: '黹'}], 13: [{205: '黽'}, {206: '鼎'}, {207: '鼓'}, {208: '鼠'}], 14: [{209: '鼻'}, {210: '齊'}], 15: [{211: '齒'}], 16: [{212: '龍'}, {213: '龜'}], 17: [{214: '龠'}]}\n"
     ]
    }
   ],
   "source": [
    "indices = dict()\n",
    "for i in range(1, 18):\n",
    "    row_list = stroke_count_table_tr[i].text.split('\\n')\n",
    "    indices[i] = []\n",
    "    \n",
    "    for j in range(1, len(row_list) - 1):\n",
    "        num, rad = row_list[j].split()\n",
    "        num = int(num)\n",
    "        \n",
    "        item = dict()\n",
    "        item[num] = rad\n",
    "        indices[i].append(item)\n",
    "\n",
    "\n",
    "print(indices)"
   ]
  },
  {
   "cell_type": "code",
   "execution_count": null,
   "id": "4ed71082",
   "metadata": {},
   "outputs": [],
   "source": []
  }
 ],
 "metadata": {
  "kernelspec": {
   "display_name": "Python 3",
   "language": "python",
   "name": "python3"
  },
  "language_info": {
   "codemirror_mode": {
    "name": "ipython",
    "version": 3
   },
   "file_extension": ".py",
   "mimetype": "text/x-python",
   "name": "python",
   "nbconvert_exporter": "python",
   "pygments_lexer": "ipython3",
   "version": "3.9.5"
  }
 },
 "nbformat": 4,
 "nbformat_minor": 5
}
